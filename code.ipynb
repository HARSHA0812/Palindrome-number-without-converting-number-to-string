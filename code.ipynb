{
 "cells": [
  {
   "cell_type": "code",
   "execution_count": 4,
   "id": "fbbf0804",
   "metadata": {},
   "outputs": [
    {
     "name": "stdout",
     "output_type": "stream",
     "text": [
      "True\n"
     ]
    }
   ],
   "source": [
    "class Solution(object):\n",
    "    def isPalindrome(self, x):\n",
    "        if x < 0:                        # If number is less than 0 return false\n",
    "             return False\n",
    "        number = x                       # store actual number in a variable to do operations on it\n",
    "        reverse = 0\n",
    "        while number:\n",
    "            reverse = reverse * 10 + number % 10  # Adding last digit of the number to 'reverse' after multiplying it with 10\n",
    "                                                  # this will yeild reverse of the number at the end\n",
    "            number //= 10               # remove the last digit in the number\n",
    "        return x == reverse             # checking if palindrome and return\n",
    "        \n",
    "object1 = Solution()\n",
    "print(object1.isPalindrome(121))"
   ]
  }
 ],
 "metadata": {
  "kernelspec": {
   "display_name": "Python 3 (ipykernel)",
   "language": "python",
   "name": "python3"
  },
  "language_info": {
   "codemirror_mode": {
    "name": "ipython",
    "version": 3
   },
   "file_extension": ".py",
   "mimetype": "text/x-python",
   "name": "python",
   "nbconvert_exporter": "python",
   "pygments_lexer": "ipython3",
   "version": "3.9.7"
  }
 },
 "nbformat": 4,
 "nbformat_minor": 5
}
